{
 "cells": [
  {
   "cell_type": "code",
   "execution_count": 1,
   "metadata": {},
   "outputs": [
    {
     "name": "stderr",
     "output_type": "stream",
     "text": [
      "2023-04-25 13:14:43.828734: I tensorflow/core/platform/cpu_feature_guard.cc:193] This TensorFlow binary is optimized with oneAPI Deep Neural Network Library (oneDNN) to use the following CPU instructions in performance-critical operations:  SSE4.1 SSE4.2\n",
      "To enable them in other operations, rebuild TensorFlow with the appropriate compiler flags.\n"
     ]
    }
   ],
   "source": [
    "from tensorflow.keras.models import Sequential\n",
    "from tensorflow.keras.layers import Dense\n",
    "from tensorflow.keras.layers import LSTM\n",
    "import numpy as np\n",
    "import matplotlib.pyplot as plt\n",
    "import pandas as pd"
   ]
  },
  {
   "cell_type": "code",
   "execution_count": 2,
   "metadata": {},
   "outputs": [
    {
     "data": {
      "text/html": [
       "<div>\n",
       "<style scoped>\n",
       "    .dataframe tbody tr th:only-of-type {\n",
       "        vertical-align: middle;\n",
       "    }\n",
       "\n",
       "    .dataframe tbody tr th {\n",
       "        vertical-align: top;\n",
       "    }\n",
       "\n",
       "    .dataframe thead th {\n",
       "        text-align: right;\n",
       "    }\n",
       "</style>\n",
       "<table border=\"1\" class=\"dataframe\">\n",
       "  <thead>\n",
       "    <tr style=\"text-align: right;\">\n",
       "      <th></th>\n",
       "      <th>Date</th>\n",
       "      <th>Open</th>\n",
       "      <th>High</th>\n",
       "      <th>Low</th>\n",
       "      <th>Last</th>\n",
       "      <th>Close</th>\n",
       "      <th>Total Trade Quantity</th>\n",
       "      <th>Turnover (Lacs)</th>\n",
       "    </tr>\n",
       "  </thead>\n",
       "  <tbody>\n",
       "    <tr>\n",
       "      <th>0</th>\n",
       "      <td>2018-09-28</td>\n",
       "      <td>234.05</td>\n",
       "      <td>235.95</td>\n",
       "      <td>230.20</td>\n",
       "      <td>233.50</td>\n",
       "      <td>233.75</td>\n",
       "      <td>3069914</td>\n",
       "      <td>7162.35</td>\n",
       "    </tr>\n",
       "    <tr>\n",
       "      <th>1</th>\n",
       "      <td>2018-09-27</td>\n",
       "      <td>234.55</td>\n",
       "      <td>236.80</td>\n",
       "      <td>231.10</td>\n",
       "      <td>233.80</td>\n",
       "      <td>233.25</td>\n",
       "      <td>5082859</td>\n",
       "      <td>11859.95</td>\n",
       "    </tr>\n",
       "    <tr>\n",
       "      <th>2</th>\n",
       "      <td>2018-09-26</td>\n",
       "      <td>240.00</td>\n",
       "      <td>240.00</td>\n",
       "      <td>232.50</td>\n",
       "      <td>235.00</td>\n",
       "      <td>234.25</td>\n",
       "      <td>2240909</td>\n",
       "      <td>5248.60</td>\n",
       "    </tr>\n",
       "    <tr>\n",
       "      <th>3</th>\n",
       "      <td>2018-09-25</td>\n",
       "      <td>233.30</td>\n",
       "      <td>236.75</td>\n",
       "      <td>232.00</td>\n",
       "      <td>236.25</td>\n",
       "      <td>236.10</td>\n",
       "      <td>2349368</td>\n",
       "      <td>5503.90</td>\n",
       "    </tr>\n",
       "    <tr>\n",
       "      <th>4</th>\n",
       "      <td>2018-09-24</td>\n",
       "      <td>233.55</td>\n",
       "      <td>239.20</td>\n",
       "      <td>230.75</td>\n",
       "      <td>234.00</td>\n",
       "      <td>233.30</td>\n",
       "      <td>3423509</td>\n",
       "      <td>7999.55</td>\n",
       "    </tr>\n",
       "  </tbody>\n",
       "</table>\n",
       "</div>"
      ],
      "text/plain": [
       "         Date    Open    High     Low    Last   Close  Total Trade Quantity  \\\n",
       "0  2018-09-28  234.05  235.95  230.20  233.50  233.75               3069914   \n",
       "1  2018-09-27  234.55  236.80  231.10  233.80  233.25               5082859   \n",
       "2  2018-09-26  240.00  240.00  232.50  235.00  234.25               2240909   \n",
       "3  2018-09-25  233.30  236.75  232.00  236.25  236.10               2349368   \n",
       "4  2018-09-24  233.55  239.20  230.75  234.00  233.30               3423509   \n",
       "\n",
       "   Turnover (Lacs)  \n",
       "0          7162.35  \n",
       "1         11859.95  \n",
       "2          5248.60  \n",
       "3          5503.90  \n",
       "4          7999.55  "
      ]
     },
     "execution_count": 2,
     "metadata": {},
     "output_type": "execute_result"
    }
   ],
   "source": [
    "df = pd.read_csv('data_set.csv')\n",
    "df.head()"
   ]
  },
  {
   "cell_type": "code",
   "execution_count": 3,
   "metadata": {},
   "outputs": [
    {
     "data": {
      "text/plain": [
       "0    233.75\n",
       "1    233.25\n",
       "2    234.25\n",
       "3    236.10\n",
       "4    233.30\n",
       "Name: Close, dtype: float64"
      ]
     },
     "execution_count": 3,
     "metadata": {},
     "output_type": "execute_result"
    }
   ],
   "source": [
    "close = df['Close']\n",
    "close.head()"
   ]
  },
  {
   "attachments": {},
   "cell_type": "markdown",
   "metadata": {},
   "source": [
    "**Data Pre Processing**"
   ]
  },
  {
   "cell_type": "code",
   "execution_count": 4,
   "metadata": {},
   "outputs": [],
   "source": [
    "from sklearn.preprocessing import MinMaxScaler,StandardScaler\n",
    "minmax_scaler=MinMaxScaler(feature_range=(0,1))\n",
    "close_minmax=minmax_scaler.fit_transform(np.array(close).reshape(-1,1))\n",
    "standard_scaler = StandardScaler()\n",
    "close_standard = standard_scaler.fit_transform(np.array(close).reshape(-1,1))"
   ]
  },
  {
   "attachments": {},
   "cell_type": "markdown",
   "metadata": {},
   "source": [
    "**Min-Max Scaling**"
   ]
  },
  {
   "attachments": {},
   "cell_type": "markdown",
   "metadata": {},
   "source": [
    "Train Test Split"
   ]
  },
  {
   "cell_type": "code",
   "execution_count": 5,
   "metadata": {},
   "outputs": [],
   "source": [
    "training_size=int(len(close_minmax)*0.65)\n",
    "test_size=len(close_minmax)-training_size\n",
    "train_data,test_data=close_minmax[0:training_size,:],close_minmax[training_size:len(close_minmax),:1]"
   ]
  },
  {
   "cell_type": "code",
   "execution_count": 6,
   "metadata": {},
   "outputs": [],
   "source": [
    "def create_dataset(dataset, time_step=1):\n",
    "\tdataX, dataY = [], []\n",
    "\tfor i in range(len(dataset)-time_step-1):\n",
    "\t\ta = dataset[i:(i+time_step), 0]   ###i=0, 0,1,2,3-----99   100 \n",
    "\t\tdataX.append(a)\n",
    "\t\tdataY.append(dataset[i + time_step, 0])\n",
    "\treturn np.array(dataX), np.array(dataY)"
   ]
  },
  {
   "cell_type": "code",
   "execution_count": 7,
   "metadata": {},
   "outputs": [],
   "source": [
    "time_step = 100\n",
    "X_train, y_train = create_dataset(train_data, time_step)\n",
    "X_test, ytest = create_dataset(test_data, time_step)"
   ]
  },
  {
   "cell_type": "code",
   "execution_count": 8,
   "metadata": {},
   "outputs": [],
   "source": [
    "# reshape input to be [samples, time steps, features] which is required for LSTM\n",
    "X_train =X_train.reshape(X_train.shape[0],X_train.shape[1] , 1)\n",
    "X_test = X_test.reshape(X_test.shape[0],X_test.shape[1] , 1)"
   ]
  },
  {
   "cell_type": "code",
   "execution_count": 9,
   "metadata": {},
   "outputs": [
    {
     "name": "stderr",
     "output_type": "stream",
     "text": [
      "2023-04-25 13:14:48.452679: I tensorflow/core/platform/cpu_feature_guard.cc:193] This TensorFlow binary is optimized with oneAPI Deep Neural Network Library (oneDNN) to use the following CPU instructions in performance-critical operations:  SSE4.1 SSE4.2\n",
      "To enable them in other operations, rebuild TensorFlow with the appropriate compiler flags.\n"
     ]
    }
   ],
   "source": [
    "model=Sequential()\n",
    "model.add(LSTM(128,return_sequences=True,input_shape=(100,1)))\n",
    "model.add(LSTM(128,return_sequences=True))\n",
    "model.add(LSTM(128))\n",
    "model.add(Dense(1))\n",
    "model.compile(loss='mean_squared_error',optimizer='adam')"
   ]
  },
  {
   "cell_type": "code",
   "execution_count": 10,
   "metadata": {},
   "outputs": [
    {
     "name": "stdout",
     "output_type": "stream",
     "text": [
      "Epoch 1/100\n",
      "20/20 [==============================] - 8s 198ms/step - loss: 0.0199\n",
      "Epoch 2/100\n",
      "20/20 [==============================] - 4s 190ms/step - loss: 0.0027\n",
      "Epoch 3/100\n",
      "20/20 [==============================] - 4s 196ms/step - loss: 0.0016\n",
      "Epoch 4/100\n",
      "20/20 [==============================] - 4s 192ms/step - loss: 0.0013\n",
      "Epoch 5/100\n",
      "20/20 [==============================] - 4s 191ms/step - loss: 0.0012\n",
      "Epoch 6/100\n",
      "20/20 [==============================] - 4s 190ms/step - loss: 0.0013\n",
      "Epoch 7/100\n",
      "20/20 [==============================] - 4s 193ms/step - loss: 0.0014\n",
      "Epoch 8/100\n",
      "20/20 [==============================] - 4s 197ms/step - loss: 0.0010\n",
      "Epoch 9/100\n",
      "20/20 [==============================] - 4s 180ms/step - loss: 9.8961e-04\n",
      "Epoch 10/100\n",
      "20/20 [==============================] - 4s 185ms/step - loss: 0.0011\n",
      "Epoch 11/100\n",
      "20/20 [==============================] - 5s 227ms/step - loss: 9.0422e-04\n",
      "Epoch 12/100\n",
      "20/20 [==============================] - 4s 216ms/step - loss: 0.0011\n",
      "Epoch 13/100\n",
      "20/20 [==============================] - 4s 207ms/step - loss: 9.0293e-04\n",
      "Epoch 14/100\n",
      "20/20 [==============================] - 4s 205ms/step - loss: 9.5335e-04\n",
      "Epoch 15/100\n",
      "20/20 [==============================] - 4s 211ms/step - loss: 7.4679e-04\n",
      "Epoch 16/100\n",
      "20/20 [==============================] - 5s 234ms/step - loss: 7.7953e-04\n",
      "Epoch 17/100\n",
      "20/20 [==============================] - 5s 251ms/step - loss: 7.2890e-04\n",
      "Epoch 18/100\n",
      "20/20 [==============================] - 5s 258ms/step - loss: 6.7966e-04\n",
      "Epoch 19/100\n",
      "20/20 [==============================] - 6s 288ms/step - loss: 6.4008e-04\n",
      "Epoch 20/100\n",
      "20/20 [==============================] - 5s 250ms/step - loss: 6.2593e-04\n",
      "Epoch 21/100\n",
      "20/20 [==============================] - 5s 229ms/step - loss: 6.2777e-04\n",
      "Epoch 22/100\n",
      "20/20 [==============================] - 4s 214ms/step - loss: 6.5452e-04\n",
      "Epoch 23/100\n",
      "20/20 [==============================] - 4s 212ms/step - loss: 6.0804e-04\n",
      "Epoch 24/100\n",
      "20/20 [==============================] - 4s 217ms/step - loss: 9.6668e-04\n",
      "Epoch 25/100\n",
      "20/20 [==============================] - 4s 220ms/step - loss: 7.3176e-04\n",
      "Epoch 26/100\n",
      "20/20 [==============================] - 5s 235ms/step - loss: 7.1412e-04\n",
      "Epoch 27/100\n",
      "20/20 [==============================] - 4s 208ms/step - loss: 5.8130e-04\n",
      "Epoch 28/100\n",
      "20/20 [==============================] - 4s 207ms/step - loss: 5.2161e-04\n",
      "Epoch 29/100\n",
      "20/20 [==============================] - 4s 207ms/step - loss: 5.9069e-04\n",
      "Epoch 30/100\n",
      "20/20 [==============================] - 4s 203ms/step - loss: 5.3284e-04\n",
      "Epoch 31/100\n",
      "20/20 [==============================] - 4s 206ms/step - loss: 5.2439e-04\n",
      "Epoch 32/100\n",
      "20/20 [==============================] - 4s 206ms/step - loss: 7.0480e-04\n",
      "Epoch 33/100\n",
      "20/20 [==============================] - 4s 202ms/step - loss: 5.6809e-04\n",
      "Epoch 34/100\n",
      "20/20 [==============================] - 4s 200ms/step - loss: 4.8184e-04\n",
      "Epoch 35/100\n",
      "20/20 [==============================] - 4s 200ms/step - loss: 5.8131e-04\n",
      "Epoch 36/100\n",
      "20/20 [==============================] - 4s 205ms/step - loss: 6.1734e-04\n",
      "Epoch 37/100\n",
      "20/20 [==============================] - 4s 204ms/step - loss: 4.6612e-04\n",
      "Epoch 38/100\n",
      "20/20 [==============================] - 4s 202ms/step - loss: 4.5318e-04\n",
      "Epoch 39/100\n",
      "20/20 [==============================] - 4s 201ms/step - loss: 4.3965e-04\n",
      "Epoch 40/100\n",
      "20/20 [==============================] - 4s 201ms/step - loss: 5.2879e-04\n",
      "Epoch 41/100\n",
      "20/20 [==============================] - 4s 202ms/step - loss: 5.1616e-04\n",
      "Epoch 42/100\n",
      "20/20 [==============================] - 4s 202ms/step - loss: 4.8427e-04\n",
      "Epoch 43/100\n",
      "20/20 [==============================] - 4s 200ms/step - loss: 4.0011e-04\n",
      "Epoch 44/100\n",
      "20/20 [==============================] - 4s 201ms/step - loss: 4.3374e-04\n",
      "Epoch 45/100\n",
      "20/20 [==============================] - 4s 203ms/step - loss: 5.1803e-04\n",
      "Epoch 46/100\n",
      "20/20 [==============================] - 4s 200ms/step - loss: 4.0226e-04\n",
      "Epoch 47/100\n",
      "20/20 [==============================] - 4s 201ms/step - loss: 4.0372e-04\n",
      "Epoch 48/100\n",
      "20/20 [==============================] - 4s 208ms/step - loss: 4.3524e-04\n",
      "Epoch 49/100\n",
      "20/20 [==============================] - 4s 199ms/step - loss: 3.8045e-04\n",
      "Epoch 50/100\n",
      "20/20 [==============================] - 4s 199ms/step - loss: 3.3101e-04\n",
      "Epoch 51/100\n",
      "20/20 [==============================] - 4s 199ms/step - loss: 3.7933e-04\n",
      "Epoch 52/100\n",
      "20/20 [==============================] - 4s 203ms/step - loss: 3.6750e-04\n",
      "Epoch 53/100\n",
      "20/20 [==============================] - 5s 227ms/step - loss: 3.2885e-04\n",
      "Epoch 54/100\n",
      "20/20 [==============================] - 4s 204ms/step - loss: 4.9373e-04\n",
      "Epoch 55/100\n",
      "20/20 [==============================] - 4s 207ms/step - loss: 3.0807e-04\n",
      "Epoch 56/100\n",
      "20/20 [==============================] - 4s 213ms/step - loss: 3.0871e-04\n",
      "Epoch 57/100\n",
      "20/20 [==============================] - 4s 201ms/step - loss: 2.9779e-04\n",
      "Epoch 58/100\n",
      "20/20 [==============================] - 4s 209ms/step - loss: 5.8694e-04\n",
      "Epoch 59/100\n",
      "20/20 [==============================] - 4s 199ms/step - loss: 4.4883e-04\n",
      "Epoch 60/100\n",
      "20/20 [==============================] - 4s 210ms/step - loss: 2.8947e-04\n",
      "Epoch 61/100\n",
      "20/20 [==============================] - 4s 210ms/step - loss: 2.7895e-04\n",
      "Epoch 62/100\n",
      "20/20 [==============================] - 4s 214ms/step - loss: 3.0460e-04\n",
      "Epoch 63/100\n",
      "20/20 [==============================] - 4s 205ms/step - loss: 2.7771e-04\n",
      "Epoch 64/100\n",
      "20/20 [==============================] - 5s 250ms/step - loss: 2.5232e-04\n",
      "Epoch 65/100\n",
      "20/20 [==============================] - 5s 237ms/step - loss: 2.6196e-04\n",
      "Epoch 66/100\n",
      "20/20 [==============================] - 5s 237ms/step - loss: 2.8133e-04\n",
      "Epoch 67/100\n",
      "20/20 [==============================] - 4s 216ms/step - loss: 2.6839e-04\n",
      "Epoch 68/100\n",
      "20/20 [==============================] - 5s 227ms/step - loss: 2.4837e-04\n",
      "Epoch 69/100\n",
      "20/20 [==============================] - 5s 227ms/step - loss: 2.6263e-04\n",
      "Epoch 70/100\n",
      "20/20 [==============================] - 4s 222ms/step - loss: 2.8992e-04\n",
      "Epoch 71/100\n",
      "20/20 [==============================] - 5s 243ms/step - loss: 2.4545e-04\n",
      "Epoch 72/100\n",
      "20/20 [==============================] - 4s 207ms/step - loss: 3.4111e-04\n",
      "Epoch 73/100\n",
      "20/20 [==============================] - 4s 214ms/step - loss: 2.5945e-04\n",
      "Epoch 74/100\n",
      "20/20 [==============================] - 4s 220ms/step - loss: 0.0010\n",
      "Epoch 75/100\n",
      "20/20 [==============================] - 4s 199ms/step - loss: 0.0013\n",
      "Epoch 76/100\n",
      "20/20 [==============================] - 5s 227ms/step - loss: 4.0650e-04\n",
      "Epoch 77/100\n",
      "20/20 [==============================] - 4s 214ms/step - loss: 2.3097e-04\n",
      "Epoch 78/100\n",
      "20/20 [==============================] - 4s 195ms/step - loss: 2.4766e-04\n",
      "Epoch 79/100\n",
      "20/20 [==============================] - 4s 197ms/step - loss: 2.2771e-04\n",
      "Epoch 80/100\n",
      "20/20 [==============================] - 4s 204ms/step - loss: 2.8357e-04\n",
      "Epoch 81/100\n",
      "20/20 [==============================] - 4s 207ms/step - loss: 2.3572e-04\n",
      "Epoch 82/100\n",
      "20/20 [==============================] - 4s 220ms/step - loss: 2.3979e-04\n",
      "Epoch 83/100\n",
      "20/20 [==============================] - 5s 268ms/step - loss: 2.4864e-04\n",
      "Epoch 84/100\n",
      "20/20 [==============================] - 5s 254ms/step - loss: 2.4246e-04\n",
      "Epoch 85/100\n",
      "20/20 [==============================] - 4s 206ms/step - loss: 3.4241e-04\n",
      "Epoch 86/100\n",
      "20/20 [==============================] - 4s 204ms/step - loss: 2.2114e-04\n",
      "Epoch 87/100\n",
      "20/20 [==============================] - 4s 202ms/step - loss: 2.2881e-04\n",
      "Epoch 88/100\n",
      "20/20 [==============================] - 4s 208ms/step - loss: 2.7777e-04\n",
      "Epoch 89/100\n",
      "20/20 [==============================] - 4s 210ms/step - loss: 2.5202e-04\n",
      "Epoch 90/100\n",
      "20/20 [==============================] - 4s 208ms/step - loss: 2.5341e-04\n",
      "Epoch 91/100\n",
      "20/20 [==============================] - 4s 209ms/step - loss: 2.1481e-04\n",
      "Epoch 92/100\n",
      "20/20 [==============================] - 5s 271ms/step - loss: 2.0873e-04\n",
      "Epoch 93/100\n",
      "20/20 [==============================] - 5s 228ms/step - loss: 2.0800e-04\n",
      "Epoch 94/100\n",
      "20/20 [==============================] - 4s 213ms/step - loss: 2.0734e-04\n",
      "Epoch 95/100\n",
      "20/20 [==============================] - 4s 208ms/step - loss: 2.1805e-04\n",
      "Epoch 96/100\n",
      "20/20 [==============================] - 5s 228ms/step - loss: 2.5257e-04\n",
      "Epoch 97/100\n",
      "20/20 [==============================] - 4s 217ms/step - loss: 2.2893e-04\n",
      "Epoch 98/100\n",
      "20/20 [==============================] - 4s 206ms/step - loss: 2.3972e-04\n",
      "Epoch 99/100\n",
      "20/20 [==============================] - 4s 204ms/step - loss: 2.1828e-04\n",
      "Epoch 100/100\n",
      "20/20 [==============================] - 4s 202ms/step - loss: 2.2998e-04\n"
     ]
    },
    {
     "data": {
      "text/plain": [
       "<keras.callbacks.History at 0x1f0ee9700>"
      ]
     },
     "execution_count": 10,
     "metadata": {},
     "output_type": "execute_result"
    }
   ],
   "source": [
    "model.fit(X_train,y_train,epochs=100,batch_size=64,verbose=1)\n"
   ]
  },
  {
   "cell_type": "code",
   "execution_count": 11,
   "metadata": {},
   "outputs": [
    {
     "name": "stdout",
     "output_type": "stream",
     "text": [
      "39/39 [==============================] - 3s 58ms/step\n",
      "20/20 [==============================] - 1s 56ms/step\n"
     ]
    }
   ],
   "source": [
    "train_predict=model.predict(X_train)\n",
    "test_predict=model.predict(X_test)"
   ]
  },
  {
   "cell_type": "code",
   "execution_count": 12,
   "metadata": {},
   "outputs": [
    {
     "name": "stdout",
     "output_type": "stream",
     "text": [
      "train rmse  0.014196580074763435\n",
      "test rmse  0.014036490866413948\n"
     ]
    }
   ],
   "source": [
    "# rmse \n",
    "import math\n",
    "from sklearn.metrics import mean_squared_error\n",
    "print(\"train rmse \",math.sqrt(mean_squared_error(y_train,train_predict)))\n",
    "print(\"test rmse \",math.sqrt(mean_squared_error(ytest,test_predict)))"
   ]
  },
  {
   "cell_type": "code",
   "execution_count": 13,
   "metadata": {},
   "outputs": [
    {
     "name": "stdout",
     "output_type": "stream",
     "text": [
      "train r2  0.9941873235657614\n",
      "test r2  0.9738228269681546\n"
     ]
    }
   ],
   "source": [
    "# r2 score \n",
    "from sklearn.metrics import r2_score\n",
    "print(\"train r2 \",r2_score(y_train,train_predict))\n",
    "print(\"test r2 \",r2_score(ytest,test_predict))"
   ]
  },
  {
   "cell_type": "code",
   "execution_count": 14,
   "metadata": {},
   "outputs": [],
   "source": [
    "train_predict=minmax_scaler.inverse_transform(train_predict)\n",
    "test_predict=minmax_scaler.inverse_transform(test_predict)\n",
    "y_train = minmax_scaler.inverse_transform(y_train.reshape(-1,1))\n",
    "ytest = minmax_scaler.inverse_transform(ytest.reshape(-1,1))"
   ]
  },
  {
   "cell_type": "code",
   "execution_count": 15,
   "metadata": {},
   "outputs": [
    {
     "data": {
      "text/plain": [
       "array([[285.74216],\n",
       "       [292.34494],\n",
       "       [286.96497],\n",
       "       ...,\n",
       "       [145.90927],\n",
       "       [146.48242],\n",
       "       [144.69756]], dtype=float32)"
      ]
     },
     "execution_count": 15,
     "metadata": {},
     "output_type": "execute_result"
    }
   ],
   "source": [
    "train_predict"
   ]
  },
  {
   "cell_type": "code",
   "execution_count": 16,
   "metadata": {},
   "outputs": [
    {
     "data": {
      "text/plain": [
       "array([[294.2 ],\n",
       "       [287.8 ],\n",
       "       [286.65],\n",
       "       ...,\n",
       "       [148.  ],\n",
       "       [143.  ],\n",
       "       [144.7 ]])"
      ]
     },
     "execution_count": 16,
     "metadata": {},
     "output_type": "execute_result"
    }
   ],
   "source": [
    "y_train"
   ]
  },
  {
   "cell_type": "code",
   "execution_count": 17,
   "metadata": {},
   "outputs": [
    {
     "data": {
      "image/png": "[encoded data removed]",
      "text/plain": [
       "<Figure size 640x480 with 1 Axes>"
      ]
     },
     "metadata": {},
     "output_type": "display_data"
    }
   ],
   "source": [
    "### Plotting \n",
    "# shift train predictions for plotting\n",
    "look_back=100\n",
    "trainPredictPlot = np.empty_like(close_minmax)\n",
    "trainPredictPlot[:, :] = np.nan\n",
    "trainPredictPlot[look_back:len(train_predict)+look_back, :] = train_predict\n",
    "# shift test predictions for plotting\n",
    "testPredictPlot = np.empty_like(close_minmax)\n",
    "testPredictPlot[:, :] = np.nan\n",
    "testPredictPlot[len(train_predict)+(look_back*2)+1:len(close_minmax)-1, :] = test_predict\n",
    "# plot baseline and predictions\n",
    "plt.plot(minmax_scaler.inverse_transform(close_minmax))\n",
    "plt.plot(trainPredictPlot)\n",
    "plt.plot(testPredictPlot)\n",
    "plt.show()"
   ]
  },
  {
   "attachments": {},
   "cell_type": "markdown",
   "metadata": {},
   "source": [
    "**Standard Scaling**"
   ]
  },
  {
   "cell_type": "markdown",
   "metadata": {},
   "source": [
    "Train Test Split"
   ]
  },
  {
   "cell_type": "code",
   "execution_count": 18,
   "metadata": {},
   "outputs": [],
   "source": [
    "training_size=int(len(close_standard)*0.65)\n",
    "test_size=len(close_standard)-training_size\n",
    "train_data,test_data=close_standard[0:training_size,:],close_standard[training_size:len(close_standard),:1]"
   ]
  },
  {
   "cell_type": "code",
   "execution_count": 19,
   "metadata": {},
   "outputs": [],
   "source": [
    "def create_dataset(dataset, time_step=1):\n",
    "\tdataX, dataY = [], []\n",
    "\tfor i in range(len(dataset)-time_step-1):\n",
    "\t\ta = dataset[i:(i+time_step), 0]   ###i=0, 0,1,2,3-----99   100 \n",
    "\t\tdataX.append(a)\n",
    "\t\tdataY.append(dataset[i + time_step, 0])\n",
    "\treturn np.array(dataX), np.array(dataY)"
   ]
  },
  {
   "cell_type": "code",
   "execution_count": 20,
   "metadata": {},
   "outputs": [],
   "source": [
    "time_step = 100\n",
    "X_train, y_train = create_dataset(train_data, time_step)\n",
    "X_test, ytest = create_dataset(test_data, time_step)"
   ]
  },
  {
   "cell_type": "code",
   "execution_count": 21,
   "metadata": {},
   "outputs": [],
   "source": [
    "# reshape input to be [samples, time steps, features] which is required for LSTM\n",
    "X_train =X_train.reshape(X_train.shape[0],X_train.shape[1] , 1)\n",
    "X_test = X_test.reshape(X_test.shape[0],X_test.shape[1] , 1)"
   ]
  },
  {
   "cell_type": "code",
   "execution_count": 22,
   "metadata": {},
   "outputs": [],
   "source": [
    "model=Sequential()\n",
    "model.add(LSTM(128,return_sequences=True,input_shape=(100,1)))\n",
    "model.add(LSTM(128,return_sequences=True))\n",
    "model.add(LSTM(128))\n",
    "model.add(Dense(1))\n",
    "model.compile(loss='mean_squared_error',optimizer='adam')"
   ]
  },
  {
   "cell_type": "code",
   "execution_count": 23,
   "metadata": {},
   "outputs": [
    {
     "name": "stdout",
     "output_type": "stream",
     "text": [
      "Epoch 1/100\n",
      "20/20 [==============================] - 8s 206ms/step - loss: 0.1718\n",
      "Epoch 2/100\n",
      "20/20 [==============================] - 4s 211ms/step - loss: 0.0406\n",
      "Epoch 3/100\n",
      "20/20 [==============================] - 4s 201ms/step - loss: 0.0320\n",
      "Epoch 4/100\n",
      "20/20 [==============================] - 4s 200ms/step - loss: 0.0231\n",
      "Epoch 5/100\n",
      "20/20 [==============================] - 4s 201ms/step - loss: 0.0215\n",
      "Epoch 6/100\n",
      "20/20 [==============================] - 4s 201ms/step - loss: 0.0184\n",
      "Epoch 7/100\n",
      "20/20 [==============================] - 4s 205ms/step - loss: 0.0192\n",
      "Epoch 8/100\n",
      "20/20 [==============================] - 4s 203ms/step - loss: 0.0163\n",
      "Epoch 9/100\n",
      "20/20 [==============================] - 4s 211ms/step - loss: 0.0169\n",
      "Epoch 10/100\n",
      "20/20 [==============================] - 4s 209ms/step - loss: 0.0189\n",
      "Epoch 11/100\n",
      "20/20 [==============================] - 4s 210ms/step - loss: 0.0290\n",
      "Epoch 12/100\n",
      "20/20 [==============================] - 5s 232ms/step - loss: 0.0183\n",
      "Epoch 13/100\n",
      "20/20 [==============================] - 5s 227ms/step - loss: 0.0154\n",
      "Epoch 14/100\n",
      "20/20 [==============================] - 4s 202ms/step - loss: 0.0128\n",
      "Epoch 15/100\n",
      "20/20 [==============================] - 4s 213ms/step - loss: 0.0137\n",
      "Epoch 16/100\n",
      "20/20 [==============================] - 4s 208ms/step - loss: 0.0127\n",
      "Epoch 17/100\n",
      "20/20 [==============================] - 4s 202ms/step - loss: 0.0126\n",
      "Epoch 18/100\n",
      "20/20 [==============================] - 4s 207ms/step - loss: 0.0120\n",
      "Epoch 19/100\n",
      "20/20 [==============================] - 4s 212ms/step - loss: 0.0112\n",
      "Epoch 20/100\n",
      "20/20 [==============================] - 4s 205ms/step - loss: 0.0104\n",
      "Epoch 21/100\n",
      "20/20 [==============================] - 4s 217ms/step - loss: 0.0104\n",
      "Epoch 22/100\n",
      "20/20 [==============================] - 4s 210ms/step - loss: 0.0102\n",
      "Epoch 23/100\n",
      "20/20 [==============================] - 4s 212ms/step - loss: 0.0104\n",
      "Epoch 24/100\n",
      "20/20 [==============================] - 4s 202ms/step - loss: 0.0098\n",
      "Epoch 25/100\n",
      "20/20 [==============================] - 4s 206ms/step - loss: 0.0091\n",
      "Epoch 26/100\n",
      "20/20 [==============================] - 4s 211ms/step - loss: 0.0106\n",
      "Epoch 27/100\n",
      "20/20 [==============================] - 4s 204ms/step - loss: 0.0103\n",
      "Epoch 28/100\n",
      "20/20 [==============================] - 4s 208ms/step - loss: 0.0085\n",
      "Epoch 29/100\n",
      "20/20 [==============================] - 6s 308ms/step - loss: 0.0085\n",
      "Epoch 30/100\n",
      "20/20 [==============================] - 7s 338ms/step - loss: 0.0081\n",
      "Epoch 31/100\n",
      "20/20 [==============================] - 6s 317ms/step - loss: 0.0103\n",
      "Epoch 32/100\n",
      "20/20 [==============================] - 5s 243ms/step - loss: 0.0078\n",
      "Epoch 33/100\n",
      "20/20 [==============================] - 4s 203ms/step - loss: 0.0071\n",
      "Epoch 34/100\n",
      "20/20 [==============================] - 4s 217ms/step - loss: 0.0077\n",
      "Epoch 35/100\n",
      "20/20 [==============================] - 4s 222ms/step - loss: 0.0075\n",
      "Epoch 36/100\n",
      "20/20 [==============================] - 4s 223ms/step - loss: 0.0066\n",
      "Epoch 37/100\n",
      "20/20 [==============================] - 4s 200ms/step - loss: 0.0059\n",
      "Epoch 38/100\n",
      "20/20 [==============================] - 5s 255ms/step - loss: 0.0062\n",
      "Epoch 39/100\n",
      "20/20 [==============================] - 5s 264ms/step - loss: 0.0064\n",
      "Epoch 40/100\n",
      "20/20 [==============================] - 4s 220ms/step - loss: 0.0061\n",
      "Epoch 41/100\n",
      "20/20 [==============================] - 4s 221ms/step - loss: 0.0060\n",
      "Epoch 42/100\n",
      "20/20 [==============================] - 4s 216ms/step - loss: 0.0064\n",
      "Epoch 43/100\n",
      "20/20 [==============================] - 4s 214ms/step - loss: 0.0057\n",
      "Epoch 44/100\n",
      "20/20 [==============================] - 6s 279ms/step - loss: 0.0055\n",
      "Epoch 45/100\n",
      "20/20 [==============================] - 5s 268ms/step - loss: 0.0053\n",
      "Epoch 46/100\n",
      "20/20 [==============================] - 6s 283ms/step - loss: 0.0059\n",
      "Epoch 47/100\n",
      "20/20 [==============================] - 5s 257ms/step - loss: 0.0054\n",
      "Epoch 48/100\n",
      "20/20 [==============================] - 5s 240ms/step - loss: 0.0051\n",
      "Epoch 49/100\n",
      "20/20 [==============================] - 5s 250ms/step - loss: 0.0049\n",
      "Epoch 50/100\n",
      "20/20 [==============================] - 5s 227ms/step - loss: 0.0047\n",
      "Epoch 51/100\n",
      "20/20 [==============================] - 6s 280ms/step - loss: 0.0053\n",
      "Epoch 52/100\n",
      "20/20 [==============================] - 4s 208ms/step - loss: 0.0048\n",
      "Epoch 53/100\n",
      "20/20 [==============================] - 4s 215ms/step - loss: 0.0048\n",
      "Epoch 54/100\n",
      "20/20 [==============================] - 4s 208ms/step - loss: 0.0094\n",
      "Epoch 55/100\n",
      "20/20 [==============================] - 4s 212ms/step - loss: 0.0062\n",
      "Epoch 56/100\n",
      "20/20 [==============================] - 4s 204ms/step - loss: 0.0062\n",
      "Epoch 57/100\n",
      "20/20 [==============================] - 4s 210ms/step - loss: 0.0048\n",
      "Epoch 58/100\n",
      "20/20 [==============================] - 4s 204ms/step - loss: 0.0051\n",
      "Epoch 59/100\n",
      "20/20 [==============================] - 4s 212ms/step - loss: 0.0048\n",
      "Epoch 60/100\n",
      "20/20 [==============================] - 4s 213ms/step - loss: 0.0068\n",
      "Epoch 61/100\n",
      "20/20 [==============================] - 4s 223ms/step - loss: 0.0052\n",
      "Epoch 62/100\n",
      "20/20 [==============================] - 4s 211ms/step - loss: 0.0048\n",
      "Epoch 63/100\n",
      "20/20 [==============================] - 4s 219ms/step - loss: 0.0089\n",
      "Epoch 64/100\n",
      "20/20 [==============================] - 4s 213ms/step - loss: 0.0107\n",
      "Epoch 65/100\n",
      "20/20 [==============================] - 4s 209ms/step - loss: 0.0051\n",
      "Epoch 66/100\n",
      "20/20 [==============================] - 4s 204ms/step - loss: 0.0049\n",
      "Epoch 67/100\n",
      "20/20 [==============================] - 4s 209ms/step - loss: 0.0046\n",
      "Epoch 68/100\n",
      "20/20 [==============================] - 4s 218ms/step - loss: 0.0053\n",
      "Epoch 69/100\n",
      "20/20 [==============================] - 4s 208ms/step - loss: 0.0054\n",
      "Epoch 70/100\n",
      "20/20 [==============================] - 4s 210ms/step - loss: 0.0051\n",
      "Epoch 71/100\n",
      "20/20 [==============================] - 4s 211ms/step - loss: 0.0050\n",
      "Epoch 72/100\n",
      "20/20 [==============================] - 4s 208ms/step - loss: 0.0051\n",
      "Epoch 73/100\n",
      "20/20 [==============================] - 4s 213ms/step - loss: 0.0055\n",
      "Epoch 74/100\n",
      "20/20 [==============================] - 4s 216ms/step - loss: 0.0054\n",
      "Epoch 75/100\n",
      "20/20 [==============================] - 4s 214ms/step - loss: 0.0049\n",
      "Epoch 76/100\n",
      "20/20 [==============================] - 4s 218ms/step - loss: 0.0049\n",
      "Epoch 77/100\n",
      "20/20 [==============================] - 4s 211ms/step - loss: 0.0051\n",
      "Epoch 78/100\n",
      "20/20 [==============================] - 4s 203ms/step - loss: 0.0051\n",
      "Epoch 79/100\n",
      "20/20 [==============================] - 4s 201ms/step - loss: 0.0046\n",
      "Epoch 80/100\n",
      "20/20 [==============================] - 4s 197ms/step - loss: 0.0051\n",
      "Epoch 81/100\n",
      "20/20 [==============================] - 4s 201ms/step - loss: 0.0051\n",
      "Epoch 82/100\n",
      "20/20 [==============================] - 4s 203ms/step - loss: 0.0049\n",
      "Epoch 83/100\n",
      "20/20 [==============================] - 4s 203ms/step - loss: 0.0049\n",
      "Epoch 84/100\n",
      "20/20 [==============================] - 4s 201ms/step - loss: 0.0045\n",
      "Epoch 85/100\n",
      "20/20 [==============================] - 4s 203ms/step - loss: 0.0050\n",
      "Epoch 86/100\n",
      "20/20 [==============================] - 4s 205ms/step - loss: 0.0047\n",
      "Epoch 87/100\n",
      "20/20 [==============================] - 4s 202ms/step - loss: 0.0046\n",
      "Epoch 88/100\n",
      "20/20 [==============================] - 4s 202ms/step - loss: 0.0047\n",
      "Epoch 89/100\n",
      "20/20 [==============================] - 4s 212ms/step - loss: 0.0046\n",
      "Epoch 90/100\n",
      "20/20 [==============================] - 4s 202ms/step - loss: 0.0046\n",
      "Epoch 91/100\n",
      "20/20 [==============================] - 4s 211ms/step - loss: 0.0067\n",
      "Epoch 92/100\n",
      "20/20 [==============================] - 4s 211ms/step - loss: 0.0059\n",
      "Epoch 93/100\n",
      "20/20 [==============================] - 4s 214ms/step - loss: 0.0058\n",
      "Epoch 94/100\n",
      "20/20 [==============================] - 4s 206ms/step - loss: 0.0047\n",
      "Epoch 95/100\n",
      "20/20 [==============================] - 4s 202ms/step - loss: 0.0050\n",
      "Epoch 96/100\n",
      "20/20 [==============================] - 4s 215ms/step - loss: 0.0047\n",
      "Epoch 97/100\n",
      "20/20 [==============================] - 4s 213ms/step - loss: 0.0044\n",
      "Epoch 98/100\n",
      "20/20 [==============================] - 4s 213ms/step - loss: 0.0045\n",
      "Epoch 99/100\n",
      "20/20 [==============================] - 4s 222ms/step - loss: 0.0045\n",
      "Epoch 100/100\n",
      "20/20 [==============================] - 4s 209ms/step - loss: 0.0077\n"
     ]
    },
    {
     "data": {
      "text/plain": [
       "<keras.callbacks.History at 0x1f295d280>"
      ]
     },
     "execution_count": 23,
     "metadata": {},
     "output_type": "execute_result"
    }
   ],
   "source": [
    "model.fit(X_train,y_train,epochs=100,batch_size=64,verbose=1)\n"
   ]
  },
  {
   "cell_type": "code",
   "execution_count": 24,
   "metadata": {},
   "outputs": [
    {
     "name": "stdout",
     "output_type": "stream",
     "text": [
      "39/39 [==============================] - 3s 58ms/step\n",
      "20/20 [==============================] - 1s 55ms/step\n"
     ]
    }
   ],
   "source": [
    "train_predict=model.predict(X_train)\n",
    "test_predict=model.predict(X_test)"
   ]
  },
  {
   "cell_type": "code",
   "execution_count": 25,
   "metadata": {},
   "outputs": [
    {
     "name": "stdout",
     "output_type": "stream",
     "text": [
      "train rmse  0.07273994351401503\n",
      "test rmse  0.05856716859734668\n"
     ]
    }
   ],
   "source": [
    "# rmse \n",
    "import math\n",
    "from sklearn.metrics import mean_squared_error\n",
    "print(\"train rmse \",math.sqrt(mean_squared_error(y_train,train_predict)))\n",
    "print(\"test rmse \",math.sqrt(mean_squared_error(ytest,test_predict)))"
   ]
  },
  {
   "cell_type": "code",
   "execution_count": 26,
   "metadata": {},
   "outputs": [
    {
     "name": "stdout",
     "output_type": "stream",
     "text": [
      "train r2  0.9939606396142311\n",
      "test r2  0.9819635750988553\n"
     ]
    }
   ],
   "source": [
    "# r2 score \n",
    "from sklearn.metrics import r2_score\n",
    "print(\"train r2 \",r2_score(y_train,train_predict))\n",
    "print(\"test r2 \",r2_score(ytest,test_predict))"
   ]
  },
  {
   "cell_type": "code",
   "execution_count": 27,
   "metadata": {},
   "outputs": [],
   "source": [
    "train_predict=standard_scaler.inverse_transform(train_predict)\n",
    "test_predict=standard_scaler.inverse_transform(test_predict)\n",
    "y_train = standard_scaler.inverse_transform(y_train.reshape(-1,1))\n",
    "ytest = standard_scaler.inverse_transform(ytest.reshape(-1,1))"
   ]
  },
  {
   "cell_type": "code",
   "execution_count": 28,
   "metadata": {},
   "outputs": [
    {
     "name": "stdout",
     "output_type": "stream",
     "text": [
      "train rmse  3.5424398040700416\n",
      "test rmse  2.8522250025952047\n"
     ]
    }
   ],
   "source": [
    "# rmse \n",
    "import math\n",
    "from sklearn.metrics import mean_squared_error\n",
    "print(\"train rmse \",math.sqrt(mean_squared_error(y_train,train_predict)))\n",
    "print(\"test rmse \",math.sqrt(mean_squared_error(ytest,test_predict)))"
   ]
  },
  {
   "cell_type": "code",
   "execution_count": 29,
   "metadata": {},
   "outputs": [
    {
     "name": "stdout",
     "output_type": "stream",
     "text": [
      "train r2  0.993960641548265\n",
      "test r2  0.981963578036019\n"
     ]
    }
   ],
   "source": [
    "# r2 score \n",
    "from sklearn.metrics import r2_score\n",
    "print(\"train r2 \",r2_score(y_train,train_predict))\n",
    "print(\"test r2 \",r2_score(ytest,test_predict))"
   ]
  },
  {
   "cell_type": "code",
   "execution_count": 30,
   "metadata": {},
   "outputs": [
    {
     "data": {
      "image/png": "[encoded data removed]",
      "text/plain": [
       "<Figure size 640x480 with 1 Axes>"
      ]
     },
     "metadata": {},
     "output_type": "display_data"
    }
   ],
   "source": [
    "### Plotting \n",
    "# shift train predictions for plotting\n",
    "look_back=100\n",
    "trainPredictPlot = np.empty_like(close_standard)\n",
    "trainPredictPlot[:, :] = np.nan\n",
    "trainPredictPlot[look_back:len(train_predict)+look_back, :] = train_predict\n",
    "# shift test predictions for plotting\n",
    "testPredictPlot = np.empty_like(close_standard)\n",
    "testPredictPlot[:, :] = np.nan\n",
    "testPredictPlot[len(train_predict)+(look_back*2)+1:len(close_standard)-1, :] = test_predict\n",
    "# plot baseline and predictions\n",
    "plt.plot(standard_scaler.inverse_transform(close_standard))\n",
    "plt.plot(trainPredictPlot)\n",
    "plt.plot(testPredictPlot)\n",
    "plt.show()"
   ]
  },
  {
   "cell_type": "code",
   "execution_count": null,
   "metadata": {},
   "outputs": [],
   "source": []
  }
 ],
 "metadata": {
  "kernelspec": {
   "display_name": "tf",
   "language": "python",
   "name": "python3"
  },
  "language_info": {
   "codemirror_mode": {
    "name": "ipython",
    "version": 3
   },
   "file_extension": ".py",
   "mimetype": "text/x-python",
   "name": "python",
   "nbconvert_exporter": "python",
   "pygments_lexer": "ipython3",
   "version": "3.9.15"
  },
  "orig_nbformat": 4
 },
 "nbformat": 4,
 "nbformat_minor": 2
}
